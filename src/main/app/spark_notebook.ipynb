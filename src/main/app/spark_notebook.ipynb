{
 "cells": [
  {
   "cell_type": "code",
   "execution_count": 4,
   "metadata": {},
   "outputs": [],
   "source": [
    "import sys\n",
    "import os \n",
    "\n",
    "base_path = os.environ['base_project_path']\n",
    "sys.path.append(f'{base_path}\\my_pyspark_project\\src\\main')"
   ]
  },
  {
   "cell_type": "code",
   "execution_count": 5,
   "metadata": {},
   "outputs": [],
   "source": [
    "from app_libraries.config_loader import load_config, get_configs\n",
    "from app_libraries import spark_utils,log_utils\n",
    "from app_libraries.log_utils import LoggerConfig\n",
    "from app_libraries.spark_utils import (\n",
    "    create_spark_session, load_data, save_data, standardize_column_names, \n",
    "    fill_missing_values, get_logger, validate_schema, check_duplicates\n",
    ")\n",
    "logger = LoggerConfig.get_logger(__name__)"
   ]
  },
  {
   "cell_type": "code",
   "execution_count": null,
   "metadata": {},
   "outputs": [],
   "source": [
    "# Load the configuration at the start of your application\n",
    "load_config(rf'{base_path}\\my_pyspark_project\\src\\bin\\configs')\n",
    "\n",
    "# Later in your application, when you need to access the configuration\n",
    "db_host = get_configs('input.yml', 'database', 'host')"
   ]
  },
  {
   "cell_type": "code",
   "execution_count": null,
   "metadata": {},
   "outputs": [],
   "source": [
    "spark = create_spark_session(app_name=\"MySparkJob\")"
   ]
  },
  {
   "cell_type": "code",
   "execution_count": null,
   "metadata": {},
   "outputs": [],
   "source": [
    "# # Load Data\n",
    "input_path = get_configs('input.yml', 'Properties', 'input_location')\n",
    "df = load_data(spark, f\"{base_path}{input_path}\", format=\"csv\")\n",
    "logger.info(\"Data loaded successfully\")"
   ]
  },
  {
   "cell_type": "code",
   "execution_count": null,
   "metadata": {},
   "outputs": [],
   "source": [
    "# # Data Processing\n",
    "# # Example: Standardize column names and fill missing values\n",
    "df = standardize_column_names(df)\n",
    "df = fill_missing_values(df)\n",
    "logger.info(\"Data processing completed\")"
   ]
  },
  {
   "cell_type": "code",
   "execution_count": null,
   "metadata": {},
   "outputs": [],
   "source": [
    "# # Check for duplicates\n",
    "if check_duplicates(df):\n",
    "    logger.error(\"Duplicate records found\")"
   ]
  },
  {
   "cell_type": "code",
   "execution_count": null,
   "metadata": {},
   "outputs": [],
   "source": [
    "# # Save Results\n",
    "output_loc = get_configs('output.yml', 'Properties', 'output_location')\n",
    "save_data(df, f\"{base_path}{output_loc}\", format=\"csv\",mode='append')\n",
    "logger.info(\"Processed data saved successfully\")"
   ]
  },
  {
   "cell_type": "code",
   "execution_count": null,
   "metadata": {},
   "outputs": [],
   "source": []
  }
 ],
 "metadata": {
  "kernelspec": {
   "display_name": "Python 3",
   "language": "python",
   "name": "python3"
  },
  "language_info": {
   "codemirror_mode": {
    "name": "ipython",
    "version": 3
   },
   "file_extension": ".py",
   "mimetype": "text/x-python",
   "name": "python",
   "nbconvert_exporter": "python",
   "pygments_lexer": "ipython3",
   "version": "3.9.12"
  }
 },
 "nbformat": 4,
 "nbformat_minor": 2
}
